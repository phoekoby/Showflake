{
 "cells": [
  {
   "cell_type": "markdown",
   "id": "70af5914",
   "metadata": {},
   "source": [
    "# Task_7\n",
    "## Кривая Коха\n",
    "\n",
    "Кривая Коха один из самых типичных детерминированных фракталов. Она была изобретена в девятнадцатом веке немецким математиком по имени Хельге фон Кох, который, изучая работы Георга Контора и Карла Вейерштрассе, натолкнулся на описания некоторых странных кривых с необычным поведением. Инициатор — прямая линия. Генератор — равносторонний треугольник, стороны которого равны трети длины большего отрезка. Эти треугольники добавляются к середине каждого сегмента снова и снова. В своем исследовании, Мандельброт много экспериментировал с кривыми Коха, и получил фигуры такие как Острова Коха, Кресты Коха, Снежинки Коха и даже трехмерные представления кривой Коха, используя тетраэдр и прибавляя меньшие по размерам тетраэдры к каждой его грани. \n"
   ]
  },
  {
   "cell_type": "code",
   "execution_count": 1,
   "id": "4cffc953",
   "metadata": {},
   "outputs": [
    {
     "data": {
      "text/plain": [
       "<Figure size 432x288 with 0 Axes>"
      ]
     },
     "metadata": {},
     "output_type": "display_data"
    },
    {
     "data": {
      "image/png": "[encoded data removed]",
      "text/plain": [
       "<Figure size 432x288 with 1 Axes>"
      ]
     },
     "metadata": {
      "needs_background": "light"
     },
     "output_type": "display_data"
    }
   ],
   "source": [
    "from matplotlib import pyplot as plt\n",
    "from matplotlib import collections as mc\n",
    "import math\n",
    "%matplotlib inline\n",
    "\n",
    "a = (0.0, 0.0)\n",
    "e = (1.0, 0.0)\n",
    "ae = (a,e)\n",
    "\n",
    "def plot_segments(segments):\n",
    "    fig, ax = plt.subplots()\n",
    "    lines = mc.LineCollection(segments)\n",
    "    ax.add_collection(lines)\n",
    "    ax.margins(0.2)\n",
    "    ax.set_aspect('equal')\n",
    "    ax.autoscale()\n",
    "    return ax\n",
    "\n",
    "\n",
    "b = ((2*a[0]+e[0]/3, (2*a[1]+e[1])/3))\n",
    "d = ((a[0]+2*e[0]/3, (a[1]+2*e[1])/3))\n",
    "\n",
    "k = math.sqrt(3)/6\n",
    "c = ((a[0]+e[0])/2 - k * (e[1]-a[1]), (a[1]+e[1])/2 + k *(e[0]-a[0]))\n",
    "\n",
    "\n",
    "plt.gcf().clear()\n",
    "def f(seg):\n",
    "    a = seg[0]\n",
    "    e = seg[1]\n",
    "    b = ((2*a[0]+e[0])/3, (2*a[1]+e[1])/3)\n",
    "    d = ((a[0]+2*e[0])/3, (a[1]+2*e[1])/3)\n",
    "    k = math.sqrt(3)/6\n",
    "    c = ((a[0]+e[0])/2 - k * (e[1]-a[1]), (a[1]+e[1])/2 + k *(e[0]-a[0]))\n",
    "    return [(a,b), (b,c), (c,d), (d,e)]\n",
    "\n",
    "# plot_segments(f(((0,0),(1,0))));\n",
    "\n",
    "# plot_segments(f(((0,0),(0,1))));\n",
    "\n",
    "# plot_segments(f(((2, 3), (2 + math.cos(math.pi/3), 3 + math.sin(math.pi/3)))));\n",
    "\n",
    "def recurse(segments):\n",
    "    return [x for s in segments for x in f(s)]\n",
    "\n",
    "recurse([(a,e)])\n",
    "\n",
    "# plot_segments(recurse([(a,e)]));\n",
    "\n",
    "segements = [(a,e)]\n",
    "for i in range(2):\n",
    "    segements = recurse(segements)\n",
    "# plot_segments(segements);\n",
    "\n",
    "\n",
    "def snowflake(n):\n",
    "    p = -math.cos(math.pi/6), math.sin(math.pi/6)\n",
    "    q = math.cos(math.pi/6), math.sin(5*math.pi/6)\n",
    "    r = 0.0, -1.0\n",
    "    segments = [(p,q), (q,r), (r,p)]\n",
    "    for i in range(n):\n",
    "        segments = recurse(segments)\n",
    "    plot_segments(segments)\n",
    "    \n",
    "snowflake(10)"
   ]
  }
 ],
 "metadata": {
  "kernelspec": {
   "display_name": "Python 3 (ipykernel)",
   "language": "python",
   "name": "python3"
  },
  "language_info": {
   "codemirror_mode": {
    "name": "ipython",
    "version": 3
   },
   "file_extension": ".py",
   "mimetype": "text/x-python",
   "name": "python",
   "nbconvert_exporter": "python",
   "pygments_lexer": "ipython3",
   "version": "3.8.10"
  }
 },
 "nbformat": 4,
 "nbformat_minor": 5
}
